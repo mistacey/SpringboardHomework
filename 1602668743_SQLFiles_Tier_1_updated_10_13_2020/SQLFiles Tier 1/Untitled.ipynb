{
 "cells": [
  {
   "cell_type": "code",
   "execution_count": 13,
   "metadata": {},
   "outputs": [
    {
     "name": "stdout",
     "output_type": "stream",
     "text": [
      "2.6.0\n",
      "2. Query all tasks\n",
      "(15, 'Bader', 'Florence', '264 Ursula Drive, Westford', 84923, '(833) 499-3527', '9', '2012-08-10 17:52:03', 'Ponder Stibbons')\n",
      "(12, 'Baker', 'Anne', '55 Powdery Street, Boston', 80743, '844-076-5141', '9', '2012-08-10 14:23:22', 'Ponder Stibbons')\n",
      "(16, 'Baker', 'Timothy', '329 James Street, Reading', 58393, '833-941-0824', '13', '2012-08-15 10:34:25', 'Jemima Farrell')\n",
      "(8, 'Boothe', 'Tim', '3 Bloomsbury Close, Reading, 00234', 234, '(811) 433-2547', '3', '2012-07-25 16:02:35', 'Tim Rownam')\n",
      "(5, 'Butters', 'Gerald', '1065 Huntingdon Avenue, Boston', 56754, '(844) 078-4130', '1', '2012-07-09 10:44:09', 'Darren Smith')\n",
      "(22, 'Coplin', 'Joan', '85 Bard Street, Bloomington, Boston', 43533, '(822) 499-2232', '16', '2012-08-29 08:32:41', 'Timothy Baker')\n",
      "(36, 'Crumpet', 'Erica', 'Crimson Road, North Reading', 75655, '(811) 732-4816', '2', '2012-09-22 08:36:38', 'Tracy Smith')\n",
      "(7, 'Dare', 'Nancy', '6 Hunting Lodge Way, Boston', 10383, '(833) 776-4001', '4', '2012-07-25 08:59:12', 'Janice Joplette')\n",
      "(20, 'Genting', 'Matthew', '4 Nunnington Place, Wingfield, Boston', 52365, '(811) 972-1377', '5', '2012-08-19 14:55:55', 'Gerald Butters')\n",
      "(35, 'Hunt', 'John', '5 Bullington Lane, Boston', 54333, '(899) 720-6978', '30', '2012-09-19 11:32:45', 'Millicent Purview')\n",
      "(11, 'Jones', 'David', '976 Gnats Close, Reading', 33862, '(844) 536-8036', '4', '2012-08-06 16:32:55', 'Janice Joplette')\n",
      "(26, 'Jones', 'Douglas', '976 Gnats Close, Reading', 11986, '844 536-8036', '11', '2012-09-02 18:43:05', 'David Jones')\n",
      "(4, 'Joplette', 'Janice', '20 Crossing Road, New York', 234, '(833) 942-4710', '1', '2012-07-03 10:25:05', 'Darren Smith')\n",
      "(21, 'Mackenzie', 'Anna', '64 Perkington Lane, Reading', 64577, '(822) 661-2898', '1', '2012-08-26 09:32:05', 'Darren Smith')\n",
      "(10, 'Owen', 'Charles', '52 Cheshire Grove, Winchester, 28563', 28563, '(855) 542-5251', '1', '2012-08-03 19:42:37', 'Darren Smith')\n",
      "(17, 'Pinker', 'David', '5 Impreza Road, Boston', 65332, '811 409-6734', '13', '2012-08-16 11:32:47', 'Jemima Farrell')\n",
      "(30, 'Purview', 'Millicent', '641 Drudgery Close, Burnington, Boston', 34232, '(855) 941-9786', '2', '2012-09-18 19:04:01', 'Tracy Smith')\n",
      "(27, 'Rumney', 'Henrietta', '3 Burkington Plaza, Boston', 78533, '(822) 989-8876', '20', '2012-09-05 08:42:35', 'Matthew Genting')\n",
      "(24, 'Sarwin', 'Ramnaresh', '12 Bullington Lane, Boston', 65464, '(822) 413-1470', '15', '2012-09-01 08:44:42', 'Florence Bader')\n",
      "(14, 'Smith', 'Jack', '252 Binkington Way, Boston', 69302, '(822) 163-3254', '1', '2012-08-10 16:22:05', 'Darren Smith')\n",
      "(9, 'Stibbons', 'Ponder', '5 Dragons Way, Winchester', 87630, '(833) 160-3900', '6', '2012-07-25 17:09:05', 'Burton Tracy')\n",
      "(29, 'Worthington-Smyth', 'Henry', '55 Jagbi Way, North Reading', 97676, '(855) 894-3758', '2', '2012-09-17 12:27:15', 'Tracy Smith')\n"
     ]
    }
   ],
   "source": [
    "import sqlite3\n",
    "from sqlite3 import Error\n",
    "\n",
    " \n",
    "def create_connection(db_file):\n",
    "    \"\"\" create a database connection to the SQLite database\n",
    "        specified by the db_file\n",
    "    :param db_file: database file\n",
    "    :return: Connection object or None\n",
    "    \"\"\"\n",
    "    conn = None\n",
    "    try:\n",
    "        conn = sqlite3.connect(db_file)\n",
    "        print(sqlite3.version)\n",
    "    except Error as e:\n",
    "        print(e)\n",
    " \n",
    "    return conn\n",
    "\n",
    " \n",
    "def select_all_tasks(conn):\n",
    "    \"\"\"\n",
    "    Query all rows in the tasks table\n",
    "    :param conn: the Connection object\n",
    "    :return:\n",
    "    \"\"\"\n",
    "    cur = conn.cursor()\n",
    "    \n",
    "    query1 = \"\"\"\n",
    "        SELECT m1.memid, m1.surname, m1.firstname, m1.address, m1.zipcode, m1.telephone, m1.recommendedby, m1.joindate,\n",
    "            CASE WHEN m2.firstname = 'GUEST' THEN ''\n",
    "                ELSE m2.firstname || ' '|| m2.surname \n",
    "                END AS name_of_recommender\n",
    "        FROM Members m1\n",
    "        JOIN Members m2 ON m1.recommendedby = m2.memid\n",
    "        ORDER BY m1.surname, m1.firstname\n",
    "\n",
    "        \"\"\"\n",
    "    cur.execute(query1)\n",
    " \n",
    "    rows = cur.fetchall()\n",
    " \n",
    "    for row in rows:\n",
    "        print(row)\n",
    "\n",
    "\n",
    "def main():\n",
    "    database = \"sqlite_db_pythonsqlite.db\"\n",
    " \n",
    "    # create a database connection\n",
    "    conn = create_connection(database)\n",
    "    with conn: \n",
    "        print(\"2. Query all tasks\")\n",
    "        select_all_tasks(conn)\n",
    " \n",
    " \n",
    "if __name__ == '__main__':\n",
    "    main()"
   ]
  },
  {
   "cell_type": "code",
   "execution_count": null,
   "metadata": {},
   "outputs": [],
   "source": []
  }
 ],
 "metadata": {
  "kernelspec": {
   "display_name": "Python 3",
   "language": "python",
   "name": "python3"
  },
  "language_info": {
   "codemirror_mode": {
    "name": "ipython",
    "version": 3
   },
   "file_extension": ".py",
   "mimetype": "text/x-python",
   "name": "python",
   "nbconvert_exporter": "python",
   "pygments_lexer": "ipython3",
   "version": "3.7.1"
  }
 },
 "nbformat": 4,
 "nbformat_minor": 2
}
