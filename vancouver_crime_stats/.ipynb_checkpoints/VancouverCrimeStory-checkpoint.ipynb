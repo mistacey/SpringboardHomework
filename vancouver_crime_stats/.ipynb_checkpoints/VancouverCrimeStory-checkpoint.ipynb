{
 "cells": [
  {
   "cell_type": "markdown",
   "metadata": {},
   "source": [
    "In this notebook I will explore the Vancouver Police Department's crime statistics from 2003 to 2019 to see if any patterns emerge. I will see if the most common crimes are changing and if overall crime is increasing or decreasing each year. I will also see if there are clear patterns for time of year, time of day, or neighbourhood that crimes are committed in."
   ]
  },
  {
   "cell_type": "markdown",
   "metadata": {},
   "source": [
    "### Imports"
   ]
  },
  {
   "cell_type": "code",
   "execution_count": 1,
   "metadata": {},
   "outputs": [],
   "source": [
    "import pandas as pd\n",
    "import numpy as np\n",
    "import matplotlib.pyplot as plt"
   ]
  },
  {
   "cell_type": "markdown",
   "metadata": {},
   "source": [
    "### Loading Data"
   ]
  },
  {
   "cell_type": "code",
   "execution_count": 2,
   "metadata": {},
   "outputs": [],
   "source": [
    "crime_data = pd.read_csv('crime_records.csv')"
   ]
  },
  {
   "cell_type": "code",
   "execution_count": 3,
   "metadata": {},
   "outputs": [
    {
     "data": {
      "text/html": [
       "<div>\n",
       "<style scoped>\n",
       "    .dataframe tbody tr th:only-of-type {\n",
       "        vertical-align: middle;\n",
       "    }\n",
       "\n",
       "    .dataframe tbody tr th {\n",
       "        vertical-align: top;\n",
       "    }\n",
       "\n",
       "    .dataframe thead th {\n",
       "        text-align: right;\n",
       "    }\n",
       "</style>\n",
       "<table border=\"1\" class=\"dataframe\">\n",
       "  <thead>\n",
       "    <tr style=\"text-align: right;\">\n",
       "      <th></th>\n",
       "      <th>TYPE</th>\n",
       "      <th>YEAR</th>\n",
       "      <th>MONTH</th>\n",
       "      <th>DAY</th>\n",
       "      <th>HOUR</th>\n",
       "      <th>MINUTE</th>\n",
       "      <th>HUNDRED_BLOCK</th>\n",
       "      <th>NEIGHBOURHOOD</th>\n",
       "      <th>X</th>\n",
       "      <th>Y</th>\n",
       "    </tr>\n",
       "  </thead>\n",
       "  <tbody>\n",
       "    <tr>\n",
       "      <th>0</th>\n",
       "      <td>Break and Enter Commercial</td>\n",
       "      <td>2012</td>\n",
       "      <td>12</td>\n",
       "      <td>14</td>\n",
       "      <td>8</td>\n",
       "      <td>52</td>\n",
       "      <td>NaN</td>\n",
       "      <td>Oakridge</td>\n",
       "      <td>491285.000000</td>\n",
       "      <td>5.453433e+06</td>\n",
       "    </tr>\n",
       "    <tr>\n",
       "      <th>1</th>\n",
       "      <td>Break and Enter Commercial</td>\n",
       "      <td>2019</td>\n",
       "      <td>3</td>\n",
       "      <td>7</td>\n",
       "      <td>2</td>\n",
       "      <td>6</td>\n",
       "      <td>10XX SITKA SQ</td>\n",
       "      <td>Fairview</td>\n",
       "      <td>490612.964805</td>\n",
       "      <td>5.457110e+06</td>\n",
       "    </tr>\n",
       "    <tr>\n",
       "      <th>2</th>\n",
       "      <td>Break and Enter Commercial</td>\n",
       "      <td>2019</td>\n",
       "      <td>8</td>\n",
       "      <td>27</td>\n",
       "      <td>4</td>\n",
       "      <td>12</td>\n",
       "      <td>10XX ALBERNI ST</td>\n",
       "      <td>West End</td>\n",
       "      <td>491007.779775</td>\n",
       "      <td>5.459174e+06</td>\n",
       "    </tr>\n",
       "    <tr>\n",
       "      <th>3</th>\n",
       "      <td>Break and Enter Commercial</td>\n",
       "      <td>2014</td>\n",
       "      <td>8</td>\n",
       "      <td>8</td>\n",
       "      <td>5</td>\n",
       "      <td>13</td>\n",
       "      <td>10XX ALBERNI ST</td>\n",
       "      <td>West End</td>\n",
       "      <td>491015.943352</td>\n",
       "      <td>5.459166e+06</td>\n",
       "    </tr>\n",
       "    <tr>\n",
       "      <th>4</th>\n",
       "      <td>Break and Enter Commercial</td>\n",
       "      <td>2005</td>\n",
       "      <td>11</td>\n",
       "      <td>14</td>\n",
       "      <td>3</td>\n",
       "      <td>9</td>\n",
       "      <td>10XX ALBERNI ST</td>\n",
       "      <td>West End</td>\n",
       "      <td>491021.385727</td>\n",
       "      <td>5.459161e+06</td>\n",
       "    </tr>\n",
       "  </tbody>\n",
       "</table>\n",
       "</div>"
      ],
      "text/plain": [
       "                         TYPE  YEAR  MONTH  DAY  HOUR  MINUTE  \\\n",
       "0  Break and Enter Commercial  2012     12   14     8      52   \n",
       "1  Break and Enter Commercial  2019      3    7     2       6   \n",
       "2  Break and Enter Commercial  2019      8   27     4      12   \n",
       "3  Break and Enter Commercial  2014      8    8     5      13   \n",
       "4  Break and Enter Commercial  2005     11   14     3       9   \n",
       "\n",
       "     HUNDRED_BLOCK NEIGHBOURHOOD              X             Y  \n",
       "0              NaN      Oakridge  491285.000000  5.453433e+06  \n",
       "1    10XX SITKA SQ      Fairview  490612.964805  5.457110e+06  \n",
       "2  10XX ALBERNI ST      West End  491007.779775  5.459174e+06  \n",
       "3  10XX ALBERNI ST      West End  491015.943352  5.459166e+06  \n",
       "4  10XX ALBERNI ST      West End  491021.385727  5.459161e+06  "
      ]
     },
     "execution_count": 3,
     "metadata": {},
     "output_type": "execute_result"
    }
   ],
   "source": [
    "crime_data.head()"
   ]
  },
  {
   "cell_type": "code",
   "execution_count": 4,
   "metadata": {},
   "outputs": [
    {
     "name": "stdout",
     "output_type": "stream",
     "text": [
      "<class 'pandas.core.frame.DataFrame'>\n",
      "RangeIndex: 624038 entries, 0 to 624037\n",
      "Data columns (total 10 columns):\n",
      " #   Column         Non-Null Count   Dtype  \n",
      "---  ------         --------------   -----  \n",
      " 0   TYPE           624038 non-null  object \n",
      " 1   YEAR           624038 non-null  int64  \n",
      " 2   MONTH          624038 non-null  int64  \n",
      " 3   DAY            624038 non-null  int64  \n",
      " 4   HOUR           624038 non-null  int64  \n",
      " 5   MINUTE         624038 non-null  int64  \n",
      " 6   HUNDRED_BLOCK  624025 non-null  object \n",
      " 7   NEIGHBOURHOOD  559076 non-null  object \n",
      " 8   X              623918 non-null  float64\n",
      " 9   Y              623918 non-null  float64\n",
      "dtypes: float64(2), int64(5), object(3)\n",
      "memory usage: 47.6+ MB\n"
     ]
    }
   ],
   "source": [
    "crime_data.info()"
   ]
  },
  {
   "cell_type": "markdown",
   "metadata": {},
   "source": [
    "### Data Cleaning"
   ]
  },
  {
   "cell_type": "markdown",
   "metadata": {},
   "source": [
    "I only need one indicator of location and neighbourhood seems the simplest to draw conclusions with, so I will drop the columns for hundred block and the x and y gps co-ordinates. I don't need to know the time down to the minute so I will drop that column, hour will suffice for determining time of day. Lastly I will drop the day of the month. If I were to spend more time with this dataset I could probably convert that column to day of the week but that would be more intensive data cleaning than I would like for this project."
   ]
  },
  {
   "cell_type": "code",
   "execution_count": 5,
   "metadata": {},
   "outputs": [],
   "source": [
    "crime_data.drop(columns='DAY', inplace=True)\n",
    "crime_data.drop(columns='MINUTE', inplace=True)\n",
    "crime_data.drop(columns='HUNDRED_BLOCK', inplace=True)\n",
    "crime_data.drop(columns='X', inplace=True)\n",
    "crime_data.drop(columns='Y', inplace=True)"
   ]
  },
  {
   "cell_type": "code",
   "execution_count": 6,
   "metadata": {},
   "outputs": [
    {
     "name": "stdout",
     "output_type": "stream",
     "text": [
      "<class 'pandas.core.frame.DataFrame'>\n",
      "RangeIndex: 624038 entries, 0 to 624037\n",
      "Data columns (total 5 columns):\n",
      " #   Column         Non-Null Count   Dtype \n",
      "---  ------         --------------   ----- \n",
      " 0   TYPE           624038 non-null  object\n",
      " 1   YEAR           624038 non-null  int64 \n",
      " 2   MONTH          624038 non-null  int64 \n",
      " 3   HOUR           624038 non-null  int64 \n",
      " 4   NEIGHBOURHOOD  559076 non-null  object\n",
      "dtypes: int64(3), object(2)\n",
      "memory usage: 23.8+ MB\n"
     ]
    }
   ],
   "source": [
    "crime_data.info()"
   ]
  },
  {
   "cell_type": "markdown",
   "metadata": {},
   "source": [
    "I will now drop the rows that are missing entries for neighbourhood"
   ]
  },
  {
   "cell_type": "code",
   "execution_count": 7,
   "metadata": {},
   "outputs": [],
   "source": [
    "crime_data = crime_data[crime_data['NEIGHBOURHOOD'].notna()]"
   ]
  },
  {
   "cell_type": "code",
   "execution_count": 8,
   "metadata": {},
   "outputs": [
    {
     "name": "stdout",
     "output_type": "stream",
     "text": [
      "<class 'pandas.core.frame.DataFrame'>\n",
      "Int64Index: 559076 entries, 0 to 624037\n",
      "Data columns (total 5 columns):\n",
      " #   Column         Non-Null Count   Dtype \n",
      "---  ------         --------------   ----- \n",
      " 0   TYPE           559076 non-null  object\n",
      " 1   YEAR           559076 non-null  int64 \n",
      " 2   MONTH          559076 non-null  int64 \n",
      " 3   HOUR           559076 non-null  int64 \n",
      " 4   NEIGHBOURHOOD  559076 non-null  object\n",
      "dtypes: int64(3), object(2)\n",
      "memory usage: 25.6+ MB\n"
     ]
    }
   ],
   "source": [
    "crime_data.info()"
   ]
  },
  {
   "cell_type": "markdown",
   "metadata": {},
   "source": [
    "### Exploring Data"
   ]
  },
  {
   "cell_type": "markdown",
   "metadata": {},
   "source": [
    "My dataset is now clean so I can begin exploring it. I will begin by determining the 5 most common crimes in 2003 and in 2019 to see if they have changed."
   ]
  },
  {
   "cell_type": "code",
   "execution_count": 9,
   "metadata": {},
   "outputs": [
    {
     "name": "stdout",
     "output_type": "stream",
     "text": [
      "Theft from Vehicle                   17287\n",
      "Break and Enter Residential/Other     6883\n",
      "Theft of Vehicle                      6352\n",
      "Mischief                              6351\n",
      "Break and Enter Commercial            3197\n",
      "Name: TYPE, dtype: int64\n",
      "Theft from Vehicle            14819\n",
      "Mischief                       4989\n",
      "Other Theft                    4866\n",
      "Theft of Bicycle               1982\n",
      "Break and Enter Commercial     1964\n",
      "Name: TYPE, dtype: int64\n"
     ]
    }
   ],
   "source": [
    "print(crime_data.loc[crime_data['YEAR']==2003].TYPE.value_counts()[:5])\n",
    "print(crime_data.loc[crime_data['YEAR']==2019].TYPE.value_counts()[:5])"
   ]
  },
  {
   "cell_type": "markdown",
   "metadata": {},
   "source": [
    "It appears that theft from vehicle is still the most common crime while break and enter commercial and mischief are still in the top 5, but other theft and theft of bicycle have overtaken break and enter residential/other and theft of vehicle.\n",
    "\n",
    "I will now see if the total numbers of crimes reported are changing year over year"
   ]
  },
  {
   "cell_type": "code",
   "execution_count": 10,
   "metadata": {},
   "outputs": [
    {
     "data": {
      "image/png": "[encoded data removed]",
      "text/plain": [
       "<Figure size 432x288 with 1 Axes>"
      ]
     },
     "metadata": {
      "needs_background": "light"
     },
     "output_type": "display_data"
    }
   ],
   "source": [
    "crime_data['YEAR'].value_counts().sort_index().plot(kind='bar')\n",
    "plt.xlabel('Year')\n",
    "plt.ylabel('Crimes Reported')\n",
    "plt.show()"
   ]
  },
  {
   "cell_type": "markdown",
   "metadata": {},
   "source": [
    "So it appears crime rates descended each year until 2011 at which point they began rising again. Next I will see if there is a pattern as to what time of year crimes are committed"
   ]
  },
  {
   "cell_type": "code",
   "execution_count": 13,
   "metadata": {},
   "outputs": [
    {
     "data": {
      "image/png": "[encoded data removed]",
      "text/plain": [
       "<Figure size 432x288 with 1 Axes>"
      ]
     },
     "metadata": {
      "needs_background": "light"
     },
     "output_type": "display_data"
    }
   ],
   "source": [
    "crime_data['MONTH'].value_counts().sort_index().plot(kind='bar')\n",
    "plt.xlabel('Month')\n",
    "plt.ylabel('Crimes Reported')\n",
    "plt.show()"
   ]
  },
  {
   "cell_type": "markdown",
   "metadata": {},
   "source": [
    "So it appears that crime rate peaks in August with a smaller bump in crime in January while February and December are low periods. Next I will see if time of day has an impact on crime. I suspect that crime rates are higher at night due to lower risk of getting caught."
   ]
  },
  {
   "cell_type": "code",
   "execution_count": 14,
   "metadata": {},
   "outputs": [
    {
     "data": {
      "image/png": "[encoded data removed]",
      "text/plain": [
       "<Figure size 432x288 with 1 Axes>"
      ]
     },
     "metadata": {
      "needs_background": "light"
     },
     "output_type": "display_data"
    }
   ],
   "source": [
    "crime_data['HOUR'].value_counts().sort_index().plot(kind='bar')\n",
    "plt.xlabel('Hour of the day 24hrs')\n",
    "plt.ylabel('Crimes Reported')\n",
    "plt.show()"
   ]
  },
  {
   "cell_type": "markdown",
   "metadata": {},
   "source": [
    "I was wrong. Crime seems to spike in the late afternoon with a smaller spike at midnight before dropping off sharply in the early morning. This suggests that most crimes are reported as people are coming home from work or school. Perhaps this is due to a delay in victims noticing and reporting the crimes. \n",
    "\n",
    "Lastly I will check to see if certain neighbourhoods are worse for crime."
   ]
  },
  {
   "cell_type": "code",
   "execution_count": 16,
   "metadata": {},
   "outputs": [
    {
     "data": {
      "text/plain": [
       "array(['Oakridge', 'Fairview', 'West End', 'Central Business District',\n",
       "       'Hastings-Sunrise', 'Strathcona', 'Grandview-Woodland',\n",
       "       'Kitsilano', 'Kensington-Cedar Cottage', 'Sunset',\n",
       "       'Mount Pleasant', 'Stanley Park', 'Shaughnessy', 'Marpole',\n",
       "       'West Point Grey', 'Victoria-Fraserview', 'Kerrisdale',\n",
       "       'Riley Park', 'Arbutus Ridge', 'Renfrew-Collingwood', 'Killarney',\n",
       "       'Dunbar-Southlands', 'South Cambie', 'Musqueam'], dtype=object)"
      ]
     },
     "execution_count": 16,
     "metadata": {},
     "output_type": "execute_result"
    }
   ],
   "source": [
    "crime_data['NEIGHBOURHOOD'].unique()"
   ]
  },
  {
   "cell_type": "code",
   "execution_count": 15,
   "metadata": {},
   "outputs": [
    {
     "data": {
      "text/plain": [
       "Central Business District    137513\n",
       "West End                      48722\n",
       "Fairview                      36723\n",
       "Mount Pleasant                36378\n",
       "Grandview-Woodland            31599\n",
       "Renfrew-Collingwood           31097\n",
       "Kitsilano                     30670\n",
       "Kensington-Cedar Cottage      28418\n",
       "Strathcona                    25809\n",
       "Hastings-Sunrise              21272\n",
       "Sunset                        19686\n",
       "Marpole                       15137\n",
       "Riley Park                    14663\n",
       "Victoria-Fraserview           12310\n",
       "Killarney                     11847\n",
       "Oakridge                       9281\n",
       "Dunbar-Southlands              8792\n",
       "Kerrisdale                     8470\n",
       "Arbutus Ridge                  6819\n",
       "West Point Grey                6761\n",
       "Shaughnessy                    6321\n",
       "South Cambie                   6043\n",
       "Stanley Park                   4174\n",
       "Musqueam                        571\n",
       "Name: NEIGHBOURHOOD, dtype: int64"
      ]
     },
     "execution_count": 15,
     "metadata": {},
     "output_type": "execute_result"
    }
   ],
   "source": [
    "crime_data['NEIGHBOURHOOD'].value_counts()"
   ]
  },
  {
   "cell_type": "code",
   "execution_count": 18,
   "metadata": {},
   "outputs": [
    {
     "data": {
      "text/plain": [
       "<AxesSubplot:>"
      ]
     },
     "execution_count": 18,
     "metadata": {},
     "output_type": "execute_result"
    },
    {
     "data": {
      "image/png": "[encoded data removed]",
      "text/plain": [
       "<Figure size 432x288 with 1 Axes>"
      ]
     },
     "metadata": {
      "needs_background": "light"
     },
     "output_type": "display_data"
    }
   ],
   "source": [
    "crime_data['NEIGHBOURHOOD'].value_counts().plot(kind='bar')"
   ]
  },
  {
   "cell_type": "markdown",
   "metadata": {},
   "source": [
    "The Central Business District experiences over 180% more crime than any other neighbourhood. Given this striking difference I think it will be useful to know specifically what crimes are most common there so I will check that."
   ]
  },
  {
   "cell_type": "code",
   "execution_count": 19,
   "metadata": {},
   "outputs": [
    {
     "data": {
      "text/plain": [
       "<AxesSubplot:>"
      ]
     },
     "execution_count": 19,
     "metadata": {},
     "output_type": "execute_result"
    },
    {
     "data": {
      "image/png": "[encoded data removed]",
      "text/plain": [
       "<Figure size 432x288 with 1 Axes>"
      ]
     },
     "metadata": {
      "needs_background": "light"
     },
     "output_type": "display_data"
    }
   ],
   "source": [
    "crime_data.loc[crime_data['NEIGHBOURHOOD']=='Central Business District'].TYPE.value_counts()[:5].plot(kind='bar')"
   ]
  },
  {
   "cell_type": "markdown",
   "metadata": {},
   "source": [
    "So the most common crime by a wide margin in the central business district is theft from vehicle. Given what I learned about the time of day crimes are reported, I think this may indicate that the most common crime in Vancouver is that criminals are breaking into people's cars while they are at work and the victims notice as they are preparing to head home. Given this theory, it would be interesting to compare the data for annual crimes with the unemployment rates for the years where crime was lowest as the low point occurs shortly after the 2008 financial crisis and this may have had an impact on this particular type of crime."
   ]
  }
 ],
 "metadata": {
  "kernelspec": {
   "display_name": "Python 3",
   "language": "python",
   "name": "python3"
  },
  "language_info": {
   "codemirror_mode": {
    "name": "ipython",
    "version": 3
   },
   "file_extension": ".py",
   "mimetype": "text/x-python",
   "name": "python",
   "nbconvert_exporter": "python",
   "pygments_lexer": "ipython3",
   "version": "3.7.9"
  }
 },
 "nbformat": 4,
 "nbformat_minor": 4
}
